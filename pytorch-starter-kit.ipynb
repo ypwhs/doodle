{
 "cells": [
  {
   "cell_type": "markdown",
   "metadata": {
    "_uuid": "ccb30bbb3598a1d4fb3790d978bc0c0e85389339"
   },
   "source": [
    "### This version cleaned and without validation (only 1 epoch, so don't use validation) "
   ]
  },
  {
   "cell_type": "code",
   "execution_count": 1,
   "metadata": {
    "ExecuteTime": {
     "end_time": "2018-11-28T16:22:41.587791Z",
     "start_time": "2018-11-28T16:22:41.235278Z"
    },
    "_uuid": "9198fb677be3ac9abf16e8689a04edef08ca2c2a"
   },
   "outputs": [],
   "source": [
    "# import warnings\n",
    "# warnings.filterwarnings('ignore') # to suppress some matplotlib deprecation warnings\n",
    "\n",
    "import numpy as np # linear algebra\n",
    "import pandas as pd # data processing, CSV file I/O (e.g. pd.read_csv)\n",
    "\n",
    "import ast\n",
    "import cv2\n",
    "\n",
    "import matplotlib.pyplot as plt\n",
    "import matplotlib.style as style\n",
    "\n",
    "%matplotlib inline\n",
    "%config InlineBackend.figure_format = 'retina'\n",
    "\n",
    "import os\n",
    "import glob\n",
    "import time\n",
    "import tqdm"
   ]
  },
  {
   "cell_type": "code",
   "execution_count": 2,
   "metadata": {
    "ExecuteTime": {
     "end_time": "2018-11-28T16:22:41.862736Z",
     "start_time": "2018-11-28T16:22:41.589589Z"
    },
    "_uuid": "632b7bda026ef88df3ed781287076cf3cba00ded"
   },
   "outputs": [],
   "source": [
    "import torch\n",
    "import torch.nn as nn\n",
    "from torch.utils.data import Dataset, DataLoader, ConcatDataset\n",
    "\n",
    "import torchvision\n",
    "from torchvision import transforms, utils"
   ]
  },
  {
   "cell_type": "code",
   "execution_count": 3,
   "metadata": {
    "ExecuteTime": {
     "end_time": "2018-11-28T16:22:41.871537Z",
     "start_time": "2018-11-28T16:22:41.864370Z"
    },
    "_uuid": "dbef81eb0e43eddca9272b4eb06aaed7dc731e8e"
   },
   "outputs": [],
   "source": [
    "en_dict = {}\n",
    "path = '/home/ypw/data/doodle/train_simplified/'\n",
    "\n",
    "filenames = glob.glob(os.path.join(path, '*.csv'))\n",
    "filenames = sorted(filenames)\n",
    "\n",
    "def encode_files():\n",
    "    \"\"\" Encode all label by name of csv_files \"\"\"\n",
    "    counter = 0\n",
    "    for fn in filenames:\n",
    "        en_dict[fn[:-4].split('/')[-1].replace(' ', '_')] = counter\n",
    "        counter += 1\n",
    "        \n",
    "# collect file names and encode label\n",
    "encode_files()\n",
    "\n",
    "dec_dict = {v: k for k, v in en_dict.items()}\n",
    "def decode_labels(label):\n",
    "    return dec_dict[label]\n",
    "\n",
    "def get_label(nfile):\n",
    "    \"\"\" Return encoded label for class by name of csv_files \"\"\"\n",
    "    return en_dict[nfile.replace(' ', '_')[:-4]]"
   ]
  },
  {
   "cell_type": "markdown",
   "metadata": {
    "_uuid": "dd391315b8fb0db7acaebe1d9bfba182e7669842"
   },
   "source": [
    "## Dataset class and loader\n",
    "Another example on official  [tutorial](https://pytorch.org/tutorials/beginner/data_loading_tutorial.html)"
   ]
  },
  {
   "cell_type": "code",
   "execution_count": 4,
   "metadata": {
    "ExecuteTime": {
     "end_time": "2018-11-28T16:22:41.883452Z",
     "start_time": "2018-11-28T16:22:41.873819Z"
    },
    "_uuid": "0ee3b325e9705009c9d4a1f0f9ec009691c4c97c"
   },
   "outputs": [],
   "source": [
    "class DoodlesDataset(Dataset):\n",
    "    \"\"\"Doodles csv dataset.\"\"\"\n",
    "\n",
    "    def __init__(self, csv_file, root_dir, mode='train', nrows=1000, skiprows=None, size=256, transform=None):\n",
    "        \"\"\"\n",
    "        Args:\n",
    "            csv_file (string): Path to the csv file with annotations.\n",
    "            root_dir (string): Directory with all the images.\n",
    "            mode (string): Train or test mode.\n",
    "            nrows (int): Number of rows of file to read. Useful for reading pieces of large files.\n",
    "            skiprows (list-like or integer or callable): \n",
    "                    Line numbers to skip (0-indexed) or number of lines to skip (int) at the start of the file.\n",
    "            size (int): Size of output image.\n",
    "            transform (callable, optional): Optional transform to be applied\n",
    "                on a sample.\n",
    "        \"\"\"\n",
    "        self.root_dir = root_dir\n",
    "        file = os.path.join(self.root_dir, csv_file)\n",
    "        self.size = size\n",
    "        self.mode = mode\n",
    "        self.doodle = pd.read_csv(file, usecols=['drawing'], nrows=nrows, skiprows=skiprows)\n",
    "        self.transform = transform\n",
    "        if self.mode == 'train':\n",
    "            self.label = get_label(csv_file)\n",
    "\n",
    "    @staticmethod\n",
    "    def _draw(raw_strokes, size=256, lw=6, time_color=True):\n",
    "        BASE_SIZE = 256\n",
    "        img = np.zeros((BASE_SIZE, BASE_SIZE), np.uint8)\n",
    "        for t, stroke in enumerate(raw_strokes):\n",
    "            for i in range(len(stroke[0]) - 1):\n",
    "                color = 255 - min(t, 10) * 13 if time_color else 255\n",
    "                _ = cv2.line(img, (stroke[0][i], stroke[1][i]),\n",
    "                             (stroke[0][i + 1], stroke[1][i + 1]), color, lw)\n",
    "        if size != BASE_SIZE:\n",
    "            return cv2.resize(img, (size, size))\n",
    "        else:\n",
    "            return img\n",
    "    \n",
    "    def __len__(self):\n",
    "        return len(self.doodle)\n",
    "\n",
    "    def __getitem__(self, idx):\n",
    "        raw_strokes = ast.literal_eval(self.doodle.drawing[idx])\n",
    "        sample = self._draw(raw_strokes, size=self.size, lw=2, time_color=True)\n",
    "        if self.transform:\n",
    "            sample = self.transform(sample)\n",
    "        if self.mode == 'train':\n",
    "            return (sample[None]/255).astype('float32'), self.label\n",
    "        else:\n",
    "            return (sample[None]/255).astype('float32')"
   ]
  },
  {
   "cell_type": "markdown",
   "metadata": {
    "_uuid": "b452067d33b4d4dce73b69a49c5ce01c5ae39b39"
   },
   "source": [
    "### Load data to our DoodlesDataset"
   ]
  },
  {
   "cell_type": "code",
   "execution_count": 5,
   "metadata": {
    "ExecuteTime": {
     "end_time": "2018-11-28T16:23:24.049093Z",
     "start_time": "2018-11-28T16:22:41.885582Z"
    },
    "_uuid": "5ac104312411ce6a9d461eeab7787f11c92378c5"
   },
   "outputs": [],
   "source": [
    "SIZE = 224 # for matching to imagenet\n",
    "# collect all single csvset in one\n",
    "select_nrows = 40000\n",
    "doodles = ConcatDataset([DoodlesDataset(fn.split('/')[-1], path, \n",
    "                                           nrows=select_nrows, size=SIZE) for fn in filenames])"
   ]
  },
  {
   "cell_type": "markdown",
   "metadata": {
    "_uuid": "f6955c97fc06e8f3036af78c1f2bb15898db0701"
   },
   "source": [
    "### Validation set - not used in this version"
   ]
  },
  {
   "cell_type": "code",
   "execution_count": 6,
   "metadata": {
    "ExecuteTime": {
     "end_time": "2018-11-28T16:23:34.397575Z",
     "start_time": "2018-11-28T16:23:24.050386Z"
    },
    "_uuid": "64634d84532ae3f7a8ccc54cc8b9b60cd2a04f2d"
   },
   "outputs": [],
   "source": [
    "# select some rows for validation\n",
    "valid_rows = 100\n",
    "validationset = ConcatDataset([DoodlesDataset(fn.split('/')[-1], path, nrows=valid_rows, size=SIZE,\n",
    "                                           skiprows=range(1, select_nrows+1)) for fn in filenames])"
   ]
  },
  {
   "cell_type": "code",
   "execution_count": 7,
   "metadata": {
    "ExecuteTime": {
     "end_time": "2018-11-28T16:23:34.403017Z",
     "start_time": "2018-11-28T16:23:34.398933Z"
    },
    "_uuid": "0f1372d9e14013e607980ce390b09f2599d673a6"
   },
   "outputs": [
    {
     "name": "stdout",
     "output_type": "stream",
     "text": [
      "Train set: 13600000\n"
     ]
    }
   ],
   "source": [
    "# total images in set\n",
    "print('Train set:', len(doodles))\n",
    "# print('Validation set:', len(validationset))\n",
    "# Use the torch dataloader to iterate through the dataset\n",
    "loader = DataLoader(doodles, batch_size=128, shuffle=True, num_workers=6)\n",
    "# valid_loader = DataLoader(validationset, batch_size=128, shuffle=False, num_workers=0)"
   ]
  },
  {
   "cell_type": "markdown",
   "metadata": {
    "_uuid": "369a1467b7be4d974cc4a71fcac5f27fddd600d0"
   },
   "source": [
    "### Get some images from set"
   ]
  },
  {
   "cell_type": "code",
   "execution_count": 8,
   "metadata": {
    "ExecuteTime": {
     "end_time": "2018-11-28T16:23:37.180472Z",
     "start_time": "2018-11-28T16:23:34.404752Z"
    },
    "_uuid": "d6a92e3cf66fc593a980c5abf01473146a92755d",
    "scrolled": false
   },
   "outputs": [
    {
     "data": {
      "image/png": "[encoded data removed]",
      "text/plain": [
       "<Figure size 1152x1728 with 1 Axes>"
      ]
     },
     "metadata": {
      "image/png": {
       "height": 369,
       "width": 935
      },
      "needs_background": "light"
     },
     "output_type": "display_data"
    }
   ],
   "source": [
    "# functions to show an image\n",
    "def imshow(img):\n",
    "    npimg = img.numpy()\n",
    "    plt.imshow(np.transpose(npimg, (1, 2, 0)))\n",
    "\n",
    "# get some images\n",
    "dataiter = iter(loader)\n",
    "images, label = dataiter.next()\n",
    "\n",
    "# show images\n",
    "plt.figure(figsize=(16,24))\n",
    "imshow(torchvision.utils.make_grid(images[:24]))"
   ]
  },
  {
   "cell_type": "code",
   "execution_count": 9,
   "metadata": {
    "ExecuteTime": {
     "end_time": "2018-11-28T16:23:37.185597Z",
     "start_time": "2018-11-28T16:23:37.181958Z"
    },
    "_uuid": "541587df1a149bc48ff54503cb70d41d411e61db"
   },
   "outputs": [],
   "source": [
    "# validation function \n",
    "def validation(lossf, scoref):\n",
    "    model.eval()\n",
    "    loss, score = 0, 0\n",
    "    vlen = len(valid_loader)\n",
    "    for x, y in valid_loader:\n",
    "        x, y = x.to(device), y.to(device)\n",
    "        output = model(x)\n",
    "        loss += lossf(output, y).item()\n",
    "        score += scoref(output, y)[0].item()\n",
    "    model.train()\n",
    "    return loss/vlen, score/vlen"
   ]
  },
  {
   "cell_type": "markdown",
   "metadata": {
    "_uuid": "fd62b930b0de7d62fcdecf5a05c5e609dcc797d5"
   },
   "source": [
    "### Define metric finction"
   ]
  },
  {
   "cell_type": "code",
   "execution_count": 10,
   "metadata": {
    "ExecuteTime": {
     "end_time": "2018-11-28T16:23:37.201394Z",
     "start_time": "2018-11-28T16:23:37.186726Z"
    },
    "_uuid": "8bb3cff215025bfd4867b8ef44785cafdda085aa"
   },
   "outputs": [],
   "source": [
    "def accuracy(output, target, topk=(3,)):\n",
    "    \"\"\"Computes the accuracy over the k top predictions for the specified values of k\"\"\"\n",
    "    with torch.no_grad():\n",
    "        maxk = max(topk)\n",
    "        batch_size = target.size(0)\n",
    "\n",
    "        _, pred = output.topk(maxk, 1, True, True)\n",
    "        pred = pred.t()\n",
    "        correct = pred.eq(target.view(1, -1).expand_as(pred))\n",
    "\n",
    "        res = []\n",
    "        for k in topk:\n",
    "            correct_k = correct[:k].view(-1).float().sum(0, keepdim=True)\n",
    "            res.append(correct_k.mul_(100.0 / batch_size))\n",
    "        return res"
   ]
  },
  {
   "cell_type": "code",
   "execution_count": 11,
   "metadata": {
    "ExecuteTime": {
     "end_time": "2018-11-28T16:23:37.210831Z",
     "start_time": "2018-11-28T16:23:37.202627Z"
    },
    "_uuid": "bcfe289cea5ab2caac9d6bce085dae515784f3e9"
   },
   "outputs": [],
   "source": [
    "def mapk(output, target, k=3):\n",
    "    \"\"\"\n",
    "    Computes the mean average precision at k.\n",
    "    \n",
    "    Parameters\n",
    "    ----------\n",
    "    output (torch.Tensor): A Tensor of predicted elements.\n",
    "                           Shape: (N,C)  where C = number of classes, N = batch size\n",
    "    target (torch.int): A Tensor of elements that are to be predicted. \n",
    "                        Shape: (N) where each value is  0≤targets[i]≤C−1\n",
    "    k (int, optional): The maximum number of predicted elements\n",
    "    \n",
    "    Returns\n",
    "    -------\n",
    "    score (torch.float):  The mean average precision at k over the output\n",
    "    \"\"\"\n",
    "    with torch.no_grad():\n",
    "        batch_size = target.size(0)\n",
    "\n",
    "        _, pred = output.topk(k, 1, True, True)\n",
    "        pred = pred.t()\n",
    "        correct = pred.eq(target.view(1, -1).expand_as(pred))\n",
    "\n",
    "        for i in range(k):\n",
    "            correct[i] = correct[i]*(k-i)\n",
    "            \n",
    "        score = correct[:k].view(-1).float().sum(0, keepdim=True)\n",
    "        score.mul_(1.0 / (k * batch_size))\n",
    "        return score"
   ]
  },
  {
   "cell_type": "markdown",
   "metadata": {
    "_uuid": "85e7f15db14909b0571e3c2922b3b3080e2778b2"
   },
   "source": [
    "### Create model. Loading pretrained version."
   ]
  },
  {
   "cell_type": "code",
   "execution_count": 12,
   "metadata": {
    "ExecuteTime": {
     "end_time": "2018-11-28T16:23:37.678223Z",
     "start_time": "2018-11-28T16:23:37.212025Z"
    },
    "_uuid": "5c4c981e8162b32a5700d8462208302cfb9c47b3"
   },
   "outputs": [],
   "source": [
    "model_name = 'resnet34'\n",
    "model = torchvision.models.resnet34(pretrained=True)"
   ]
  },
  {
   "cell_type": "markdown",
   "metadata": {
    "_uuid": "28cde2116e987a1f5fefba9a73d4def56f8f07c3"
   },
   "source": [
    "Change number of inputs channels and number of classes. Details about model and code [here](https://github.com/pytorch/vision/blob/master/torchvision/models/resnet.py)"
   ]
  },
  {
   "cell_type": "code",
   "execution_count": 13,
   "metadata": {
    "ExecuteTime": {
     "end_time": "2018-11-28T16:23:37.684971Z",
     "start_time": "2018-11-28T16:23:37.679614Z"
    },
    "_uuid": "1d13f4cbbf05a8d7228771ce1414e30a621a81ae"
   },
   "outputs": [],
   "source": [
    "# Its first and last layers in model\n",
    "def squeeze_weights(m):\n",
    "    m.weight.data = m.weight.data.sum(dim=1)[:,None]\n",
    "    m.in_channels = 1\n",
    "\n",
    "model.conv1.apply(squeeze_weights);\n",
    "\n",
    "num_classes = 340\n",
    "model.fc = nn.Linear(in_features=512, out_features=num_classes, bias=True)"
   ]
  },
  {
   "cell_type": "markdown",
   "metadata": {
    "_uuid": "8ed9f62379af2217af2440c77a097d3c434ca3e8"
   },
   "source": [
    "Test model using random number. Just checking for service."
   ]
  },
  {
   "cell_type": "code",
   "execution_count": 14,
   "metadata": {
    "ExecuteTime": {
     "end_time": "2018-11-28T16:23:39.160245Z",
     "start_time": "2018-11-28T16:23:37.686177Z"
    },
    "_uuid": "e742abf34ddbd5c1b1218a8b8e506f7b41d5ceb1"
   },
   "outputs": [
    {
     "name": "stdout",
     "output_type": "stream",
     "text": [
      "CPU times: user 3.36 s, sys: 352 ms, total: 3.71 s\n",
      "Wall time: 1.47 s\n"
     ]
    },
    {
     "data": {
      "text/plain": [
       "torch.Size([12, 340])"
      ]
     },
     "execution_count": 14,
     "metadata": {},
     "output_type": "execute_result"
    }
   ],
   "source": [
    "%%time\n",
    "# test with random data\n",
    "model(torch.randn(12,1,224,224)).size()"
   ]
  },
  {
   "cell_type": "code",
   "execution_count": 15,
   "metadata": {
    "ExecuteTime": {
     "end_time": "2018-11-28T16:23:40.868638Z",
     "start_time": "2018-11-28T16:23:39.161530Z"
    },
    "_uuid": "f4535539aeea5fe64996cd69a4d0555024952a47"
   },
   "outputs": [],
   "source": [
    "model = model.cuda()"
   ]
  },
  {
   "cell_type": "code",
   "execution_count": 16,
   "metadata": {
    "ExecuteTime": {
     "end_time": "2018-11-28T16:23:40.873551Z",
     "start_time": "2018-11-28T16:23:40.870148Z"
    },
    "_uuid": "5f9756c44222d039a7cff9886c253c5d3cdc1cb6"
   },
   "outputs": [],
   "source": [
    "criterion = nn.CrossEntropyLoss()\n",
    "optimizer = torch.optim.Adam(model.parameters(), lr=1e-3, amsgrad=True)"
   ]
  },
  {
   "cell_type": "code",
   "execution_count": 17,
   "metadata": {
    "ExecuteTime": {
     "end_time": "2018-11-28T16:23:40.888963Z",
     "start_time": "2018-11-28T16:23:40.874734Z"
    },
    "_uuid": "df12311a7e01e25c2f969041e050b775acccbe43"
   },
   "outputs": [],
   "source": [
    "# PyTorch scheduler:\n",
    "# https://pytorch.org/docs/stable/optim.html#how-to-adjust-learning-rate\n",
    "scheduler = torch.optim.lr_scheduler.MultiStepLR(optimizer, milestones=[5000,12000,18000], gamma=0.5)"
   ]
  },
  {
   "cell_type": "markdown",
   "metadata": {
    "_uuid": "77dbb6e521f2a05062a45ce2211c61179f4263b6"
   },
   "source": [
    "Training loop with printing information every 1000 iteration"
   ]
  },
  {
   "cell_type": "code",
   "execution_count": 18,
   "metadata": {
    "ExecuteTime": {
     "end_time": "2018-11-29T03:47:14.012642Z",
     "start_time": "2018-11-28T16:23:40.892347Z"
    },
    "_uuid": "ce361e3f6370b69b2b74a1f692665ef525c2346f",
    "scrolled": false
   },
   "outputs": [
    {
     "name": "stderr",
     "output_type": "stream",
     "text": [
      "  1%|          | 1000/106250 [06:24<11:16:55,  2.59it/s]"
     ]
    },
    {
     "name": "stdout",
     "output_type": "stream",
     "text": [
      "Iteration 1000 -> Train Loss: 2.3079, MAP@3: 0.575\n"
     ]
    },
    {
     "name": "stderr",
     "output_type": "stream",
     "text": [
      "  2%|▏         | 2000/106250 [12:49<11:03:12,  2.62it/s]"
     ]
    },
    {
     "name": "stdout",
     "output_type": "stream",
     "text": [
      "Iteration 2000 -> Train Loss: 1.5339, MAP@3: 0.728\n"
     ]
    },
    {
     "name": "stderr",
     "output_type": "stream",
     "text": [
      "  3%|▎         | 3000/106250 [19:14<11:12:42,  2.56it/s]"
     ]
    },
    {
     "name": "stdout",
     "output_type": "stream",
     "text": [
      "Iteration 3000 -> Train Loss: 1.3503, MAP@3: 0.764\n"
     ]
    },
    {
     "name": "stderr",
     "output_type": "stream",
     "text": [
      "  4%|▍         | 4000/106250 [25:39<11:08:50,  2.55it/s]"
     ]
    },
    {
     "name": "stdout",
     "output_type": "stream",
     "text": [
      "Iteration 4000 -> Train Loss: 1.2535, MAP@3: 0.783\n"
     ]
    },
    {
     "name": "stderr",
     "output_type": "stream",
     "text": [
      "  5%|▍         | 5000/106250 [32:03<10:42:06,  2.63it/s]"
     ]
    },
    {
     "name": "stdout",
     "output_type": "stream",
     "text": [
      "Iteration 5000 -> Train Loss: 1.1821, MAP@3: 0.797\n"
     ]
    },
    {
     "name": "stderr",
     "output_type": "stream",
     "text": [
      "  6%|▌         | 6000/106250 [38:29<10:57:39,  2.54it/s]"
     ]
    },
    {
     "name": "stdout",
     "output_type": "stream",
     "text": [
      "Iteration 6000 -> Train Loss: 1.0604, MAP@3: 0.820\n"
     ]
    },
    {
     "name": "stderr",
     "output_type": "stream",
     "text": [
      "  7%|▋         | 7000/106250 [44:54<10:24:49,  2.65it/s]"
     ]
    },
    {
     "name": "stdout",
     "output_type": "stream",
     "text": [
      "Iteration 7000 -> Train Loss: 1.0321, MAP@3: 0.827\n"
     ]
    },
    {
     "name": "stderr",
     "output_type": "stream",
     "text": [
      "  8%|▊         | 8000/106250 [51:19<10:43:15,  2.55it/s]"
     ]
    },
    {
     "name": "stdout",
     "output_type": "stream",
     "text": [
      "Iteration 8000 -> Train Loss: 1.0167, MAP@3: 0.828\n"
     ]
    },
    {
     "name": "stderr",
     "output_type": "stream",
     "text": [
      "  8%|▊         | 9000/106250 [57:45<10:29:43,  2.57it/s]"
     ]
    },
    {
     "name": "stdout",
     "output_type": "stream",
     "text": [
      "Iteration 9000 -> Train Loss: 1.0021, MAP@3: 0.832\n"
     ]
    },
    {
     "name": "stderr",
     "output_type": "stream",
     "text": [
      "  9%|▉         | 10000/106250 [1:04:10<10:30:26,  2.54it/s]"
     ]
    },
    {
     "name": "stdout",
     "output_type": "stream",
     "text": [
      "Iteration 10000 -> Train Loss: 0.9836, MAP@3: 0.835\n"
     ]
    },
    {
     "name": "stderr",
     "output_type": "stream",
     "text": [
      " 10%|█         | 11000/106250 [1:10:36<10:26:01,  2.54it/s]"
     ]
    },
    {
     "name": "stdout",
     "output_type": "stream",
     "text": [
      "Iteration 11000 -> Train Loss: 0.9765, MAP@3: 0.837\n"
     ]
    },
    {
     "name": "stderr",
     "output_type": "stream",
     "text": [
      " 11%|█▏        | 12000/106250 [1:17:02<10:05:20,  2.59it/s]"
     ]
    },
    {
     "name": "stdout",
     "output_type": "stream",
     "text": [
      "Iteration 12000 -> Train Loss: 0.9580, MAP@3: 0.840\n"
     ]
    },
    {
     "name": "stderr",
     "output_type": "stream",
     "text": [
      " 12%|█▏        | 13000/106250 [1:23:28<9:55:47,  2.61it/s] "
     ]
    },
    {
     "name": "stdout",
     "output_type": "stream",
     "text": [
      "Iteration 13000 -> Train Loss: 0.9110, MAP@3: 0.849\n"
     ]
    },
    {
     "name": "stderr",
     "output_type": "stream",
     "text": [
      " 13%|█▎        | 14000/106250 [1:29:55<9:56:31,  2.58it/s] "
     ]
    },
    {
     "name": "stdout",
     "output_type": "stream",
     "text": [
      "Iteration 14000 -> Train Loss: 0.9084, MAP@3: 0.849\n"
     ]
    },
    {
     "name": "stderr",
     "output_type": "stream",
     "text": [
      " 14%|█▍        | 15000/106250 [1:36:21<9:54:57,  2.56it/s] "
     ]
    },
    {
     "name": "stdout",
     "output_type": "stream",
     "text": [
      "Iteration 15000 -> Train Loss: 0.9013, MAP@3: 0.850\n"
     ]
    },
    {
     "name": "stderr",
     "output_type": "stream",
     "text": [
      " 15%|█▌        | 16000/106250 [1:42:47<9:44:45,  2.57it/s] "
     ]
    },
    {
     "name": "stdout",
     "output_type": "stream",
     "text": [
      "Iteration 16000 -> Train Loss: 0.8857, MAP@3: 0.853\n"
     ]
    },
    {
     "name": "stderr",
     "output_type": "stream",
     "text": [
      " 16%|█▌        | 17000/106250 [1:49:13<9:43:45,  2.55it/s]"
     ]
    },
    {
     "name": "stdout",
     "output_type": "stream",
     "text": [
      "Iteration 17000 -> Train Loss: 0.8885, MAP@3: 0.853\n"
     ]
    },
    {
     "name": "stderr",
     "output_type": "stream",
     "text": [
      " 17%|█▋        | 18000/106250 [1:55:39<9:36:35,  2.55it/s]"
     ]
    },
    {
     "name": "stdout",
     "output_type": "stream",
     "text": [
      "Iteration 18000 -> Train Loss: 0.8890, MAP@3: 0.852\n"
     ]
    },
    {
     "name": "stderr",
     "output_type": "stream",
     "text": [
      " 18%|█▊        | 19000/106250 [2:02:05<9:14:00,  2.62it/s]"
     ]
    },
    {
     "name": "stdout",
     "output_type": "stream",
     "text": [
      "Iteration 19000 -> Train Loss: 0.8649, MAP@3: 0.857\n"
     ]
    },
    {
     "name": "stderr",
     "output_type": "stream",
     "text": [
      " 19%|█▉        | 20000/106250 [2:08:31<9:08:51,  2.62it/s]"
     ]
    },
    {
     "name": "stdout",
     "output_type": "stream",
     "text": [
      "Iteration 20000 -> Train Loss: 0.8549, MAP@3: 0.859\n"
     ]
    },
    {
     "name": "stderr",
     "output_type": "stream",
     "text": [
      " 20%|█▉        | 21000/106250 [2:14:57<8:58:38,  2.64it/s]"
     ]
    },
    {
     "name": "stdout",
     "output_type": "stream",
     "text": [
      "Iteration 21000 -> Train Loss: 0.8473, MAP@3: 0.861\n"
     ]
    },
    {
     "name": "stderr",
     "output_type": "stream",
     "text": [
      " 21%|██        | 22000/106250 [2:21:23<8:58:57,  2.61it/s]"
     ]
    },
    {
     "name": "stdout",
     "output_type": "stream",
     "text": [
      "Iteration 22000 -> Train Loss: 0.8447, MAP@3: 0.861\n"
     ]
    },
    {
     "name": "stderr",
     "output_type": "stream",
     "text": [
      " 22%|██▏       | 23000/106250 [2:27:49<9:01:21,  2.56it/s]"
     ]
    },
    {
     "name": "stdout",
     "output_type": "stream",
     "text": [
      "Iteration 23000 -> Train Loss: 0.8452, MAP@3: 0.861\n"
     ]
    },
    {
     "name": "stderr",
     "output_type": "stream",
     "text": [
      " 23%|██▎       | 24000/106250 [2:34:15<8:52:20,  2.58it/s]"
     ]
    },
    {
     "name": "stdout",
     "output_type": "stream",
     "text": [
      "Iteration 24000 -> Train Loss: 0.8367, MAP@3: 0.862\n"
     ]
    },
    {
     "name": "stderr",
     "output_type": "stream",
     "text": [
      " 24%|██▎       | 25000/106250 [2:40:41<8:37:13,  2.62it/s]"
     ]
    },
    {
     "name": "stdout",
     "output_type": "stream",
     "text": [
      "Iteration 25000 -> Train Loss: 0.8358, MAP@3: 0.862\n"
     ]
    },
    {
     "name": "stderr",
     "output_type": "stream",
     "text": [
      " 24%|██▍       | 26000/106250 [2:47:07<8:40:00,  2.57it/s]"
     ]
    },
    {
     "name": "stdout",
     "output_type": "stream",
     "text": [
      "Iteration 26000 -> Train Loss: 0.8366, MAP@3: 0.863\n"
     ]
    },
    {
     "name": "stderr",
     "output_type": "stream",
     "text": [
      " 25%|██▌       | 27000/106250 [2:53:34<8:29:38,  2.59it/s]"
     ]
    },
    {
     "name": "stdout",
     "output_type": "stream",
     "text": [
      "Iteration 27000 -> Train Loss: 0.8364, MAP@3: 0.862\n"
     ]
    },
    {
     "name": "stderr",
     "output_type": "stream",
     "text": [
      " 26%|██▋       | 28000/106250 [3:00:00<8:33:57,  2.54it/s]"
     ]
    },
    {
     "name": "stdout",
     "output_type": "stream",
     "text": [
      "Iteration 28000 -> Train Loss: 0.8330, MAP@3: 0.863\n"
     ]
    },
    {
     "name": "stderr",
     "output_type": "stream",
     "text": [
      " 27%|██▋       | 29000/106250 [3:06:26<8:11:25,  2.62it/s]"
     ]
    },
    {
     "name": "stdout",
     "output_type": "stream",
     "text": [
      "Iteration 29000 -> Train Loss: 0.8309, MAP@3: 0.863\n"
     ]
    },
    {
     "name": "stderr",
     "output_type": "stream",
     "text": [
      " 28%|██▊       | 30000/106250 [3:12:52<8:21:39,  2.53it/s]"
     ]
    },
    {
     "name": "stdout",
     "output_type": "stream",
     "text": [
      "Iteration 30000 -> Train Loss: 0.8292, MAP@3: 0.864\n"
     ]
    },
    {
     "name": "stderr",
     "output_type": "stream",
     "text": [
      " 29%|██▉       | 31000/106250 [3:19:18<8:08:48,  2.57it/s]"
     ]
    },
    {
     "name": "stdout",
     "output_type": "stream",
     "text": [
      "Iteration 31000 -> Train Loss: 0.8292, MAP@3: 0.864\n"
     ]
    },
    {
     "name": "stderr",
     "output_type": "stream",
     "text": [
      " 30%|███       | 32000/106250 [3:25:45<7:52:09,  2.62it/s]"
     ]
    },
    {
     "name": "stdout",
     "output_type": "stream",
     "text": [
      "Iteration 32000 -> Train Loss: 0.8245, MAP@3: 0.863\n"
     ]
    },
    {
     "name": "stderr",
     "output_type": "stream",
     "text": [
      " 31%|███       | 33000/106250 [3:32:11<7:55:42,  2.57it/s]"
     ]
    },
    {
     "name": "stdout",
     "output_type": "stream",
     "text": [
      "Iteration 33000 -> Train Loss: 0.8122, MAP@3: 0.866\n"
     ]
    },
    {
     "name": "stderr",
     "output_type": "stream",
     "text": [
      " 32%|███▏      | 34000/106250 [3:38:36<7:41:16,  2.61it/s]"
     ]
    },
    {
     "name": "stdout",
     "output_type": "stream",
     "text": [
      "Iteration 34000 -> Train Loss: 0.8135, MAP@3: 0.866\n"
     ]
    },
    {
     "name": "stderr",
     "output_type": "stream",
     "text": [
      " 33%|███▎      | 35000/106250 [3:45:02<7:46:16,  2.55it/s]"
     ]
    },
    {
     "name": "stdout",
     "output_type": "stream",
     "text": [
      "Iteration 35000 -> Train Loss: 0.8124, MAP@3: 0.867\n"
     ]
    },
    {
     "name": "stderr",
     "output_type": "stream",
     "text": [
      " 34%|███▍      | 36000/106250 [3:51:28<7:42:46,  2.53it/s]"
     ]
    },
    {
     "name": "stdout",
     "output_type": "stream",
     "text": [
      "Iteration 36000 -> Train Loss: 0.8187, MAP@3: 0.865\n"
     ]
    },
    {
     "name": "stderr",
     "output_type": "stream",
     "text": [
      " 35%|███▍      | 37000/106250 [3:57:54<7:22:45,  2.61it/s]"
     ]
    },
    {
     "name": "stdout",
     "output_type": "stream",
     "text": [
      "Iteration 37000 -> Train Loss: 0.8225, MAP@3: 0.865\n"
     ]
    },
    {
     "name": "stderr",
     "output_type": "stream",
     "text": [
      " 36%|███▌      | 38000/106250 [4:04:19<7:13:01,  2.63it/s]"
     ]
    },
    {
     "name": "stdout",
     "output_type": "stream",
     "text": [
      "Iteration 38000 -> Train Loss: 0.8168, MAP@3: 0.866\n"
     ]
    },
    {
     "name": "stderr",
     "output_type": "stream",
     "text": [
      " 37%|███▋      | 39000/106250 [4:10:45<7:05:55,  2.63it/s]"
     ]
    },
    {
     "name": "stdout",
     "output_type": "stream",
     "text": [
      "Iteration 39000 -> Train Loss: 0.8155, MAP@3: 0.866\n"
     ]
    },
    {
     "name": "stderr",
     "output_type": "stream",
     "text": [
      " 38%|███▊      | 40000/106250 [4:17:11<7:03:42,  2.61it/s]"
     ]
    },
    {
     "name": "stdout",
     "output_type": "stream",
     "text": [
      "Iteration 40000 -> Train Loss: 0.8091, MAP@3: 0.867\n"
     ]
    },
    {
     "name": "stderr",
     "output_type": "stream",
     "text": [
      " 39%|███▊      | 41000/106250 [4:23:38<7:04:08,  2.56it/s]"
     ]
    },
    {
     "name": "stdout",
     "output_type": "stream",
     "text": [
      "Iteration 41000 -> Train Loss: 0.8086, MAP@3: 0.867\n"
     ]
    },
    {
     "name": "stderr",
     "output_type": "stream",
     "text": [
      " 40%|███▉      | 42000/106250 [4:30:04<6:49:16,  2.62it/s]"
     ]
    },
    {
     "name": "stdout",
     "output_type": "stream",
     "text": [
      "Iteration 42000 -> Train Loss: 0.8101, MAP@3: 0.867\n"
     ]
    },
    {
     "name": "stderr",
     "output_type": "stream",
     "text": [
      " 40%|████      | 43000/106250 [4:36:30<6:42:31,  2.62it/s]"
     ]
    },
    {
     "name": "stdout",
     "output_type": "stream",
     "text": [
      "Iteration 43000 -> Train Loss: 0.8071, MAP@3: 0.867\n"
     ]
    },
    {
     "name": "stderr",
     "output_type": "stream",
     "text": [
      " 41%|████▏     | 44000/106250 [4:42:56<6:46:58,  2.55it/s]"
     ]
    },
    {
     "name": "stdout",
     "output_type": "stream",
     "text": [
      "Iteration 44000 -> Train Loss: 0.8123, MAP@3: 0.867\n"
     ]
    },
    {
     "name": "stderr",
     "output_type": "stream",
     "text": [
      " 42%|████▏     | 45000/106250 [4:49:22<6:29:59,  2.62it/s]"
     ]
    },
    {
     "name": "stdout",
     "output_type": "stream",
     "text": [
      "Iteration 45000 -> Train Loss: 0.8123, MAP@3: 0.866\n"
     ]
    },
    {
     "name": "stderr",
     "output_type": "stream",
     "text": [
      " 43%|████▎     | 46000/106250 [4:55:48<6:26:57,  2.59it/s]"
     ]
    },
    {
     "name": "stdout",
     "output_type": "stream",
     "text": [
      "Iteration 46000 -> Train Loss: 0.8013, MAP@3: 0.868\n"
     ]
    },
    {
     "name": "stderr",
     "output_type": "stream",
     "text": [
      " 44%|████▍     | 47000/106250 [5:02:14<6:23:09,  2.58it/s]"
     ]
    },
    {
     "name": "stdout",
     "output_type": "stream",
     "text": [
      "Iteration 47000 -> Train Loss: 0.8003, MAP@3: 0.869\n"
     ]
    },
    {
     "name": "stderr",
     "output_type": "stream",
     "text": [
      " 45%|████▌     | 48000/106250 [5:08:40<6:17:03,  2.57it/s]"
     ]
    },
    {
     "name": "stdout",
     "output_type": "stream",
     "text": [
      "Iteration 48000 -> Train Loss: 0.7973, MAP@3: 0.869\n"
     ]
    },
    {
     "name": "stderr",
     "output_type": "stream",
     "text": [
      " 46%|████▌     | 49000/106250 [5:15:06<6:11:06,  2.57it/s]"
     ]
    },
    {
     "name": "stdout",
     "output_type": "stream",
     "text": [
      "Iteration 49000 -> Train Loss: 0.8078, MAP@3: 0.867\n"
     ]
    },
    {
     "name": "stderr",
     "output_type": "stream",
     "text": [
      " 47%|████▋     | 50000/106250 [5:21:32<6:09:29,  2.54it/s]"
     ]
    },
    {
     "name": "stdout",
     "output_type": "stream",
     "text": [
      "Iteration 50000 -> Train Loss: 0.7885, MAP@3: 0.870\n"
     ]
    },
    {
     "name": "stderr",
     "output_type": "stream",
     "text": [
      " 48%|████▊     | 51000/106250 [5:27:58<5:52:57,  2.61it/s]"
     ]
    },
    {
     "name": "stdout",
     "output_type": "stream",
     "text": [
      "Iteration 51000 -> Train Loss: 0.8039, MAP@3: 0.868\n"
     ]
    },
    {
     "name": "stderr",
     "output_type": "stream",
     "text": [
      " 49%|████▉     | 52000/106250 [5:34:24<5:45:26,  2.62it/s]"
     ]
    },
    {
     "name": "stdout",
     "output_type": "stream",
     "text": [
      "Iteration 52000 -> Train Loss: 0.7980, MAP@3: 0.869\n"
     ]
    },
    {
     "name": "stderr",
     "output_type": "stream",
     "text": [
      " 50%|████▉     | 53000/106250 [5:40:50<5:41:35,  2.60it/s]"
     ]
    },
    {
     "name": "stdout",
     "output_type": "stream",
     "text": [
      "Iteration 53000 -> Train Loss: 0.7867, MAP@3: 0.871\n"
     ]
    },
    {
     "name": "stderr",
     "output_type": "stream",
     "text": [
      " 51%|█████     | 54000/106250 [5:47:16<5:32:02,  2.62it/s]"
     ]
    },
    {
     "name": "stdout",
     "output_type": "stream",
     "text": [
      "Iteration 54000 -> Train Loss: 0.8006, MAP@3: 0.868\n"
     ]
    },
    {
     "name": "stderr",
     "output_type": "stream",
     "text": [
      " 52%|█████▏    | 55000/106250 [5:53:43<5:32:15,  2.57it/s]"
     ]
    },
    {
     "name": "stdout",
     "output_type": "stream",
     "text": [
      "Iteration 55000 -> Train Loss: 0.7954, MAP@3: 0.869\n"
     ]
    },
    {
     "name": "stderr",
     "output_type": "stream",
     "text": [
      " 53%|█████▎    | 56000/106250 [6:00:09<5:25:43,  2.57it/s]"
     ]
    },
    {
     "name": "stdout",
     "output_type": "stream",
     "text": [
      "Iteration 56000 -> Train Loss: 0.7988, MAP@3: 0.869\n"
     ]
    },
    {
     "name": "stderr",
     "output_type": "stream",
     "text": [
      " 54%|█████▎    | 57000/106250 [6:06:35<5:20:06,  2.56it/s]"
     ]
    },
    {
     "name": "stdout",
     "output_type": "stream",
     "text": [
      "Iteration 57000 -> Train Loss: 0.7900, MAP@3: 0.871\n"
     ]
    },
    {
     "name": "stderr",
     "output_type": "stream",
     "text": [
      " 55%|█████▍    | 58000/106250 [6:13:02<5:07:21,  2.62it/s]"
     ]
    },
    {
     "name": "stdout",
     "output_type": "stream",
     "text": [
      "Iteration 58000 -> Train Loss: 0.7954, MAP@3: 0.870\n"
     ]
    },
    {
     "name": "stderr",
     "output_type": "stream",
     "text": [
      " 56%|█████▌    | 59000/106250 [6:19:28<5:09:50,  2.54it/s]"
     ]
    },
    {
     "name": "stdout",
     "output_type": "stream",
     "text": [
      "Iteration 59000 -> Train Loss: 0.7894, MAP@3: 0.870\n"
     ]
    },
    {
     "name": "stderr",
     "output_type": "stream",
     "text": [
      " 56%|█████▋    | 60000/106250 [6:25:54<5:02:23,  2.55it/s]"
     ]
    },
    {
     "name": "stdout",
     "output_type": "stream",
     "text": [
      "Iteration 60000 -> Train Loss: 0.7868, MAP@3: 0.871\n"
     ]
    },
    {
     "name": "stderr",
     "output_type": "stream",
     "text": [
      " 57%|█████▋    | 61000/106250 [6:32:21<4:55:25,  2.55it/s]"
     ]
    },
    {
     "name": "stdout",
     "output_type": "stream",
     "text": [
      "Iteration 61000 -> Train Loss: 0.7799, MAP@3: 0.872\n"
     ]
    },
    {
     "name": "stderr",
     "output_type": "stream",
     "text": [
      " 58%|█████▊    | 62000/106250 [6:38:47<4:50:33,  2.54it/s]"
     ]
    },
    {
     "name": "stdout",
     "output_type": "stream",
     "text": [
      "Iteration 62000 -> Train Loss: 0.7878, MAP@3: 0.871\n"
     ]
    },
    {
     "name": "stderr",
     "output_type": "stream",
     "text": [
      " 59%|█████▉    | 63000/106250 [6:45:13<4:39:57,  2.57it/s]"
     ]
    },
    {
     "name": "stdout",
     "output_type": "stream",
     "text": [
      "Iteration 63000 -> Train Loss: 0.7808, MAP@3: 0.872\n"
     ]
    },
    {
     "name": "stderr",
     "output_type": "stream",
     "text": [
      " 60%|██████    | 64000/106250 [6:51:39<4:28:54,  2.62it/s]"
     ]
    },
    {
     "name": "stdout",
     "output_type": "stream",
     "text": [
      "Iteration 64000 -> Train Loss: 0.7792, MAP@3: 0.871\n"
     ]
    },
    {
     "name": "stderr",
     "output_type": "stream",
     "text": [
      " 61%|██████    | 65000/106250 [6:58:06<4:22:42,  2.62it/s]"
     ]
    },
    {
     "name": "stdout",
     "output_type": "stream",
     "text": [
      "Iteration 65000 -> Train Loss: 0.7834, MAP@3: 0.871\n"
     ]
    },
    {
     "name": "stderr",
     "output_type": "stream",
     "text": [
      " 62%|██████▏   | 66000/106250 [7:04:32<4:19:21,  2.59it/s]"
     ]
    },
    {
     "name": "stdout",
     "output_type": "stream",
     "text": [
      "Iteration 66000 -> Train Loss: 0.7758, MAP@3: 0.872\n"
     ]
    },
    {
     "name": "stderr",
     "output_type": "stream",
     "text": [
      " 63%|██████▎   | 67000/106250 [7:10:58<4:10:26,  2.61it/s]"
     ]
    },
    {
     "name": "stdout",
     "output_type": "stream",
     "text": [
      "Iteration 67000 -> Train Loss: 0.7777, MAP@3: 0.872\n"
     ]
    },
    {
     "name": "stderr",
     "output_type": "stream",
     "text": [
      " 64%|██████▍   | 68000/106250 [7:17:24<4:07:02,  2.58it/s]"
     ]
    },
    {
     "name": "stdout",
     "output_type": "stream",
     "text": [
      "Iteration 68000 -> Train Loss: 0.7786, MAP@3: 0.872\n"
     ]
    },
    {
     "name": "stderr",
     "output_type": "stream",
     "text": [
      " 65%|██████▍   | 69000/106250 [7:23:50<4:03:38,  2.55it/s]"
     ]
    },
    {
     "name": "stdout",
     "output_type": "stream",
     "text": [
      "Iteration 69000 -> Train Loss: 0.7798, MAP@3: 0.872\n"
     ]
    },
    {
     "name": "stderr",
     "output_type": "stream",
     "text": [
      " 66%|██████▌   | 70000/106250 [7:30:15<3:53:57,  2.58it/s]"
     ]
    },
    {
     "name": "stdout",
     "output_type": "stream",
     "text": [
      "Iteration 70000 -> Train Loss: 0.7821, MAP@3: 0.872\n"
     ]
    },
    {
     "name": "stderr",
     "output_type": "stream",
     "text": [
      " 67%|██████▋   | 71000/106250 [7:36:41<3:46:13,  2.60it/s]"
     ]
    },
    {
     "name": "stdout",
     "output_type": "stream",
     "text": [
      "Iteration 71000 -> Train Loss: 0.7784, MAP@3: 0.872\n"
     ]
    },
    {
     "name": "stderr",
     "output_type": "stream",
     "text": [
      " 68%|██████▊   | 72000/106250 [7:43:07<3:42:39,  2.56it/s]"
     ]
    },
    {
     "name": "stdout",
     "output_type": "stream",
     "text": [
      "Iteration 72000 -> Train Loss: 0.7787, MAP@3: 0.872\n"
     ]
    },
    {
     "name": "stderr",
     "output_type": "stream",
     "text": [
      " 69%|██████▊   | 73000/106250 [7:49:33<3:34:57,  2.58it/s]"
     ]
    },
    {
     "name": "stdout",
     "output_type": "stream",
     "text": [
      "Iteration 73000 -> Train Loss: 0.7740, MAP@3: 0.873\n"
     ]
    },
    {
     "name": "stderr",
     "output_type": "stream",
     "text": [
      " 70%|██████▉   | 74000/106250 [7:55:59<3:26:32,  2.60it/s]"
     ]
    },
    {
     "name": "stdout",
     "output_type": "stream",
     "text": [
      "Iteration 74000 -> Train Loss: 0.7694, MAP@3: 0.874\n"
     ]
    },
    {
     "name": "stderr",
     "output_type": "stream",
     "text": [
      " 71%|███████   | 75000/106250 [8:02:25<3:18:38,  2.62it/s]"
     ]
    },
    {
     "name": "stdout",
     "output_type": "stream",
     "text": [
      "Iteration 75000 -> Train Loss: 0.7758, MAP@3: 0.873\n"
     ]
    },
    {
     "name": "stderr",
     "output_type": "stream",
     "text": [
      " 72%|███████▏  | 76000/106250 [8:08:52<3:18:01,  2.55it/s]"
     ]
    },
    {
     "name": "stdout",
     "output_type": "stream",
     "text": [
      "Iteration 76000 -> Train Loss: 0.7790, MAP@3: 0.872\n"
     ]
    },
    {
     "name": "stderr",
     "output_type": "stream",
     "text": [
      " 72%|███████▏  | 77000/106250 [8:15:18<3:06:15,  2.62it/s]"
     ]
    },
    {
     "name": "stdout",
     "output_type": "stream",
     "text": [
      "Iteration 77000 -> Train Loss: 0.7728, MAP@3: 0.873\n"
     ]
    },
    {
     "name": "stderr",
     "output_type": "stream",
     "text": [
      " 73%|███████▎  | 78000/106250 [8:21:45<3:05:04,  2.54it/s]"
     ]
    },
    {
     "name": "stdout",
     "output_type": "stream",
     "text": [
      "Iteration 78000 -> Train Loss: 0.7743, MAP@3: 0.873\n"
     ]
    },
    {
     "name": "stderr",
     "output_type": "stream",
     "text": [
      " 74%|███████▍  | 79000/106250 [8:28:11<2:52:36,  2.63it/s]"
     ]
    },
    {
     "name": "stdout",
     "output_type": "stream",
     "text": [
      "Iteration 79000 -> Train Loss: 0.7789, MAP@3: 0.872\n"
     ]
    },
    {
     "name": "stderr",
     "output_type": "stream",
     "text": [
      " 75%|███████▌  | 80000/106250 [8:34:37<2:52:12,  2.54it/s]"
     ]
    },
    {
     "name": "stdout",
     "output_type": "stream",
     "text": [
      "Iteration 80000 -> Train Loss: 0.7632, MAP@3: 0.874\n"
     ]
    },
    {
     "name": "stderr",
     "output_type": "stream",
     "text": [
      " 76%|███████▌  | 81000/106250 [8:41:04<2:43:17,  2.58it/s]"
     ]
    },
    {
     "name": "stdout",
     "output_type": "stream",
     "text": [
      "Iteration 81000 -> Train Loss: 0.7640, MAP@3: 0.875\n"
     ]
    },
    {
     "name": "stderr",
     "output_type": "stream",
     "text": [
      " 77%|███████▋  | 82000/106250 [8:47:30<2:34:59,  2.61it/s]"
     ]
    },
    {
     "name": "stdout",
     "output_type": "stream",
     "text": [
      "Iteration 82000 -> Train Loss: 0.7589, MAP@3: 0.875\n"
     ]
    },
    {
     "name": "stderr",
     "output_type": "stream",
     "text": [
      " 78%|███████▊  | 83000/106250 [8:53:57<2:31:06,  2.56it/s]"
     ]
    },
    {
     "name": "stdout",
     "output_type": "stream",
     "text": [
      "Iteration 83000 -> Train Loss: 0.7691, MAP@3: 0.874\n"
     ]
    },
    {
     "name": "stderr",
     "output_type": "stream",
     "text": [
      " 79%|███████▉  | 84000/106250 [9:00:23<2:23:19,  2.59it/s]"
     ]
    },
    {
     "name": "stdout",
     "output_type": "stream",
     "text": [
      "Iteration 84000 -> Train Loss: 0.7626, MAP@3: 0.875\n"
     ]
    },
    {
     "name": "stderr",
     "output_type": "stream",
     "text": [
      " 80%|████████  | 85000/106250 [9:06:50<2:15:58,  2.60it/s]"
     ]
    },
    {
     "name": "stdout",
     "output_type": "stream",
     "text": [
      "Iteration 85000 -> Train Loss: 0.7699, MAP@3: 0.875\n"
     ]
    },
    {
     "name": "stderr",
     "output_type": "stream",
     "text": [
      " 81%|████████  | 86000/106250 [9:13:16<2:10:32,  2.59it/s]"
     ]
    },
    {
     "name": "stdout",
     "output_type": "stream",
     "text": [
      "Iteration 86000 -> Train Loss: 0.7719, MAP@3: 0.873\n"
     ]
    },
    {
     "name": "stderr",
     "output_type": "stream",
     "text": [
      " 82%|████████▏ | 87000/106250 [9:19:43<2:02:47,  2.61it/s]"
     ]
    },
    {
     "name": "stdout",
     "output_type": "stream",
     "text": [
      "Iteration 87000 -> Train Loss: 0.7640, MAP@3: 0.875\n"
     ]
    },
    {
     "name": "stderr",
     "output_type": "stream",
     "text": [
      " 83%|████████▎ | 88000/106250 [9:26:10<1:55:53,  2.62it/s]"
     ]
    },
    {
     "name": "stdout",
     "output_type": "stream",
     "text": [
      "Iteration 88000 -> Train Loss: 0.7652, MAP@3: 0.875\n"
     ]
    },
    {
     "name": "stderr",
     "output_type": "stream",
     "text": [
      " 84%|████████▍ | 89000/106250 [9:32:36<1:49:59,  2.61it/s]"
     ]
    },
    {
     "name": "stdout",
     "output_type": "stream",
     "text": [
      "Iteration 89000 -> Train Loss: 0.7654, MAP@3: 0.875\n"
     ]
    },
    {
     "name": "stderr",
     "output_type": "stream",
     "text": [
      " 85%|████████▍ | 90000/106250 [9:39:03<1:42:56,  2.63it/s]"
     ]
    },
    {
     "name": "stdout",
     "output_type": "stream",
     "text": [
      "Iteration 90000 -> Train Loss: 0.7663, MAP@3: 0.875\n"
     ]
    },
    {
     "name": "stderr",
     "output_type": "stream",
     "text": [
      " 86%|████████▌ | 91000/106250 [9:45:30<1:39:58,  2.54it/s]"
     ]
    },
    {
     "name": "stdout",
     "output_type": "stream",
     "text": [
      "Iteration 91000 -> Train Loss: 0.7571, MAP@3: 0.876\n"
     ]
    },
    {
     "name": "stderr",
     "output_type": "stream",
     "text": [
      " 87%|████████▋ | 92000/106250 [9:51:56<1:30:24,  2.63it/s]"
     ]
    },
    {
     "name": "stdout",
     "output_type": "stream",
     "text": [
      "Iteration 92000 -> Train Loss: 0.7621, MAP@3: 0.876\n"
     ]
    },
    {
     "name": "stderr",
     "output_type": "stream",
     "text": [
      " 88%|████████▊ | 93000/106250 [9:58:23<1:26:32,  2.55it/s]"
     ]
    },
    {
     "name": "stdout",
     "output_type": "stream",
     "text": [
      "Iteration 93000 -> Train Loss: 0.7603, MAP@3: 0.876\n"
     ]
    },
    {
     "name": "stderr",
     "output_type": "stream",
     "text": [
      " 88%|████████▊ | 94000/106250 [10:04:49<1:19:09,  2.58it/s]"
     ]
    },
    {
     "name": "stdout",
     "output_type": "stream",
     "text": [
      "Iteration 94000 -> Train Loss: 0.7607, MAP@3: 0.875\n"
     ]
    },
    {
     "name": "stderr",
     "output_type": "stream",
     "text": [
      " 89%|████████▉ | 95000/106250 [10:11:16<1:11:17,  2.63it/s]"
     ]
    },
    {
     "name": "stdout",
     "output_type": "stream",
     "text": [
      "Iteration 95000 -> Train Loss: 0.7577, MAP@3: 0.875\n"
     ]
    },
    {
     "name": "stderr",
     "output_type": "stream",
     "text": [
      " 90%|█████████ | 96000/106250 [10:17:43<1:05:28,  2.61it/s]"
     ]
    },
    {
     "name": "stdout",
     "output_type": "stream",
     "text": [
      "Iteration 96000 -> Train Loss: 0.7636, MAP@3: 0.875\n"
     ]
    },
    {
     "name": "stderr",
     "output_type": "stream",
     "text": [
      " 91%|█████████▏| 97000/106250 [10:24:09<1:00:13,  2.56it/s]"
     ]
    },
    {
     "name": "stdout",
     "output_type": "stream",
     "text": [
      "Iteration 97000 -> Train Loss: 0.7617, MAP@3: 0.875\n"
     ]
    },
    {
     "name": "stderr",
     "output_type": "stream",
     "text": [
      " 92%|█████████▏| 98000/106250 [10:30:35<52:53,  2.60it/s]  "
     ]
    },
    {
     "name": "stdout",
     "output_type": "stream",
     "text": [
      "Iteration 98000 -> Train Loss: 0.7497, MAP@3: 0.878\n"
     ]
    },
    {
     "name": "stderr",
     "output_type": "stream",
     "text": [
      " 93%|█████████▎| 99000/106250 [10:37:00<45:52,  2.63it/s]"
     ]
    },
    {
     "name": "stdout",
     "output_type": "stream",
     "text": [
      "Iteration 99000 -> Train Loss: 0.7597, MAP@3: 0.876\n"
     ]
    },
    {
     "name": "stderr",
     "output_type": "stream",
     "text": [
      " 94%|█████████▍| 100000/106250 [10:43:25<39:34,  2.63it/s]"
     ]
    },
    {
     "name": "stdout",
     "output_type": "stream",
     "text": [
      "Iteration 100000 -> Train Loss: 0.7553, MAP@3: 0.877\n"
     ]
    },
    {
     "name": "stderr",
     "output_type": "stream",
     "text": [
      " 95%|█████████▌| 101000/106250 [10:49:50<34:23,  2.54it/s]"
     ]
    },
    {
     "name": "stdout",
     "output_type": "stream",
     "text": [
      "Iteration 101000 -> Train Loss: 0.7571, MAP@3: 0.875\n"
     ]
    },
    {
     "name": "stderr",
     "output_type": "stream",
     "text": [
      " 96%|█████████▌| 102000/106250 [10:56:15<27:25,  2.58it/s]"
     ]
    },
    {
     "name": "stdout",
     "output_type": "stream",
     "text": [
      "Iteration 102000 -> Train Loss: 0.7587, MAP@3: 0.875\n"
     ]
    },
    {
     "name": "stderr",
     "output_type": "stream",
     "text": [
      " 97%|█████████▋| 103000/106250 [11:02:40<20:37,  2.63it/s]"
     ]
    },
    {
     "name": "stdout",
     "output_type": "stream",
     "text": [
      "Iteration 103000 -> Train Loss: 0.7535, MAP@3: 0.877\n"
     ]
    },
    {
     "name": "stderr",
     "output_type": "stream",
     "text": [
      " 98%|█████████▊| 104000/106250 [11:09:06<14:36,  2.57it/s]"
     ]
    },
    {
     "name": "stdout",
     "output_type": "stream",
     "text": [
      "Iteration 104000 -> Train Loss: 0.7474, MAP@3: 0.878\n"
     ]
    },
    {
     "name": "stderr",
     "output_type": "stream",
     "text": [
      " 99%|█████████▉| 105000/106250 [11:15:31<07:57,  2.62it/s]"
     ]
    },
    {
     "name": "stdout",
     "output_type": "stream",
     "text": [
      "Iteration 105000 -> Train Loss: 0.7431, MAP@3: 0.878\n"
     ]
    },
    {
     "name": "stderr",
     "output_type": "stream",
     "text": [
      "100%|█████████▉| 106000/106250 [11:21:56<01:38,  2.53it/s]"
     ]
    },
    {
     "name": "stdout",
     "output_type": "stream",
     "text": [
      "Iteration 106000 -> Train Loss: 0.7560, MAP@3: 0.877\n"
     ]
    },
    {
     "name": "stderr",
     "output_type": "stream",
     "text": [
      "100%|██████████| 106250/106250 [11:23:33<00:00,  2.62it/s]"
     ]
    },
    {
     "name": "stdout",
     "output_type": "stream",
     "text": [
      "CPU times: user 9h 57min 21s, sys: 1h 26min 45s, total: 11h 24min 7s\n",
      "Wall time: 11h 23min 33s\n"
     ]
    },
    {
     "name": "stderr",
     "output_type": "stream",
     "text": [
      "\n"
     ]
    }
   ],
   "source": [
    "%%time\n",
    "epochs = 1\n",
    "lsize = len(loader)\n",
    "itr = 1\n",
    "p_itr = 1000 # print every N iteration\n",
    "model.train()\n",
    "tloss, score = 0, 0\n",
    "for epoch in range(epochs):\n",
    "    with tqdm.tqdm(loader, total=len(loader)) as pbar:\n",
    "        for x, y in pbar:\n",
    "            x, y = x.cuda(), y.cuda()\n",
    "            optimizer.zero_grad()\n",
    "            output = model(x)\n",
    "            loss = criterion(output, y)\n",
    "            loss.backward()\n",
    "            optimizer.step()\n",
    "            tloss += loss.item()\n",
    "            score += mapk(output, y)[0].item()\n",
    "            scheduler.step()\n",
    "            if itr % p_itr==0:\n",
    "                print('Iteration {} -> Train Loss: {:.4f}, MAP@3: {:.3f}'.format(itr, tloss/p_itr, score/p_itr))\n",
    "                tloss, score = 0, 0\n",
    "            itr +=1"
   ]
  },
  {
   "cell_type": "markdown",
   "metadata": {
    "_uuid": "fb2caca6c2924a1008362d699a9e56f6219af890"
   },
   "source": [
    "### Save model state"
   ]
  },
  {
   "cell_type": "code",
   "execution_count": 19,
   "metadata": {
    "ExecuteTime": {
     "end_time": "2018-11-29T03:47:14.162125Z",
     "start_time": "2018-11-29T03:47:14.015837Z"
    },
    "_uuid": "006c6a9e1a36507ea22ea8be2c9144a764085917"
   },
   "outputs": [],
   "source": [
    "os.makedirs('checkpoints', exist_ok=True)\n",
    "filename_pth = f'checkpoints/{model_name}.pth'\n",
    "torch.save(model.state_dict(), filename_pth)"
   ]
  },
  {
   "cell_type": "markdown",
   "metadata": {
    "_uuid": "5f549634ec660fc4bd6f9c9e84f82dcd569ada18"
   },
   "source": [
    "### And finally predict for test set "
   ]
  },
  {
   "cell_type": "code",
   "execution_count": 20,
   "metadata": {
    "ExecuteTime": {
     "end_time": "2018-11-29T03:47:14.782874Z",
     "start_time": "2018-11-29T03:47:14.163616Z"
    },
    "_uuid": "c10f196d429b3ca77c8612242885a8128988e763"
   },
   "outputs": [],
   "source": [
    "testset = DoodlesDataset('test_simplified.csv', '/home/ypw/data/doodle/', \n",
    "                         mode='test', nrows=None, size=SIZE)\n",
    "testloader = DataLoader(testset, batch_size=128, shuffle=False, num_workers=4)"
   ]
  },
  {
   "cell_type": "code",
   "execution_count": 21,
   "metadata": {
    "ExecuteTime": {
     "end_time": "2018-11-29T03:49:01.564161Z",
     "start_time": "2018-11-29T03:47:14.785134Z"
    },
    "_uuid": "0b595d5b9bd8d0c6ec5043717d7f9678a147f063",
    "scrolled": true
   },
   "outputs": [
    {
     "name": "stderr",
     "output_type": "stream",
     "text": [
      "100%|██████████| 877/877 [01:46<00:00,  8.21it/s]\n"
     ]
    }
   ],
   "source": [
    "model.eval()\n",
    "labels = np.empty((0,3))\n",
    "with tqdm.tqdm(testloader) as pbar:\n",
    "    for x in pbar:\n",
    "        x = x.cuda()\n",
    "        output = model(x)\n",
    "        _, pred = output.topk(3, 1, True, True)\n",
    "        labels = np.concatenate([labels, pred], axis = 0)"
   ]
  },
  {
   "cell_type": "code",
   "execution_count": 24,
   "metadata": {
    "ExecuteTime": {
     "end_time": "2018-11-29T03:55:02.718324Z",
     "start_time": "2018-11-29T03:52:07.311710Z"
    },
    "_uuid": "3177c36bc834f5910cc9e2fc743b2673ce637406"
   },
   "outputs": [
    {
     "name": "stdout",
     "output_type": "stream",
     "text": [
      "CPU times: user 2min 55s, sys: 1.12 s, total: 2min 56s\n",
      "Wall time: 2min 55s\n"
     ]
    }
   ],
   "source": [
    "%%time\n",
    "submission = pd.read_csv('/home/ypw/data/doodle/test_simplified.csv', index_col='key_id')\n",
    "submission.drop(['countrycode', 'drawing'], axis=1, inplace=True)\n",
    "submission['word'] = ''\n",
    "for i, label in enumerate(labels):\n",
    "    submission.word.iloc[i] = \" \".join([decode_labels(l) for l in label])"
   ]
  },
  {
   "cell_type": "code",
   "execution_count": 25,
   "metadata": {
    "ExecuteTime": {
     "end_time": "2018-11-29T03:55:02.940227Z",
     "start_time": "2018-11-29T03:55:02.720353Z"
    },
    "_uuid": "b980509c4869d040547074b077710a9d533f2797"
   },
   "outputs": [],
   "source": [
    "submission.to_csv(f'preds_{model_name}.csv')"
   ]
  },
  {
   "cell_type": "code",
   "execution_count": null,
   "metadata": {
    "_uuid": "4fce5761dcef0721906f446ad8a6b22e71538d45"
   },
   "outputs": [],
   "source": []
  }
 ],
 "metadata": {
  "kernelspec": {
   "display_name": "Python 3",
   "language": "python",
   "name": "python3"
  },
  "language_info": {
   "codemirror_mode": {
    "name": "ipython",
    "version": 3
   },
   "file_extension": ".py",
   "mimetype": "text/x-python",
   "name": "python",
   "nbconvert_exporter": "python",
   "pygments_lexer": "ipython3",
   "version": "3.6.7"
  }
 },
 "nbformat": 4,
 "nbformat_minor": 1
}
