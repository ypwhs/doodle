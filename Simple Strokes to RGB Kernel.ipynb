{
 "cells": [
  {
   "cell_type": "code",
   "execution_count": null,
   "metadata": {
    "ExecuteTime": {
     "end_time": "2018-11-29T11:26:46.523505Z",
     "start_time": "2018-11-29T11:24:34.093350Z"
    },
    "scrolled": false
   },
   "outputs": [],
   "source": [
    "# 统计 recognized 失败的样本个数\n",
    "import glob\n",
    "\n",
    "files = glob.glob('/home/ypw/data/doodle/train_simplified/*.csv')\n",
    "len(files)\n",
    "total = 0\n",
    "for file in files:\n",
    "    df = pd.read_csv(file)\n",
    "    num = len(df)\n",
    "    right = df.recognized.mean()\n",
    "    total += num*(1-right)\n",
    "print(total)"
   ]
  },
  {
   "cell_type": "code",
   "execution_count": null,
   "metadata": {
    "ExecuteTime": {
     "end_time": "2018-11-29T11:32:06.849859Z",
     "start_time": "2018-11-29T11:32:03.722052Z"
    }
   },
   "outputs": [],
   "source": [
    "files = glob.glob('/home/ypw/data/doodle/train_simplified/*.csv')\n",
    "with tqdm(files) as pbar:\n",
    "    for file in pbar:\n",
    "        df = pd.read_csv(file)\n",
    "        df = df[::10000]\n",
    "        df['drawing'] = df['drawing'].apply(ast.literal_eval)\n",
    "        df_x_max = max([max([max(stroke[0]) for stroke in value])for value in df.drawing])\n",
    "        df_x_min = min([min([min(stroke[0]) for stroke in value])for value in df.drawing])\n",
    "        df_y_max = max([max([max(stroke[1]) for stroke in value])for value in df.drawing])\n",
    "        df_y_min = min([min([min(stroke[1]) for stroke in value])for value in df.drawing])\n",
    "        label = (file.split('/')[-1]).split('.')[0]\n",
    "        pbar.set_description(str((df_x_max, df_x_min, df_y_max, df_y_min, label)))"
   ]
  },
  {
   "cell_type": "markdown",
   "metadata": {},
   "source": [
    "# Convert Strokes to RGB Images"
   ]
  },
  {
   "cell_type": "code",
   "execution_count": 1,
   "metadata": {
    "ExecuteTime": {
     "end_time": "2018-11-29T12:15:08.623602Z",
     "start_time": "2018-11-29T12:15:06.745872Z"
    }
   },
   "outputs": [],
   "source": [
    "%matplotlib inline\n",
    "import pandas as pd\n",
    "import numpy as np\n",
    "import os\n",
    "import ast\n",
    "import cv2\n",
    "from tqdm import tqdm\n",
    "\n",
    "import matplotlib.pyplot as plt\n",
    "plt.rcParams['figure.figsize'] = [16, 10]\n",
    "plt.rcParams['font.size'] = 14\n",
    "\n",
    "from tensorflow.keras.applications.resnet50 import preprocess_input"
   ]
  },
  {
   "cell_type": "code",
   "execution_count": 2,
   "metadata": {
    "ExecuteTime": {
     "end_time": "2018-11-29T12:15:08.631146Z",
     "start_time": "2018-11-29T12:15:08.627486Z"
    }
   },
   "outputs": [],
   "source": [
    "BASE_SIZE = 256\n",
    "\n",
    "img_size = 256\n",
    "batchsize = 128\n",
    "line_width = 2"
   ]
  },
  {
   "cell_type": "markdown",
   "metadata": {},
   "source": [
    "# Colors Input"
   ]
  },
  {
   "cell_type": "code",
   "execution_count": 79,
   "metadata": {
    "ExecuteTime": {
     "end_time": "2018-11-29T13:27:17.947536Z",
     "start_time": "2018-11-29T13:27:17.944376Z"
    }
   },
   "outputs": [],
   "source": [
    "colors = [(255, 0, 0) , (255, 255, 0),  (128, 255, 0),  (0, 255, 0), (0, 255, 128), (0, 255, 255), \n",
    "          (0, 128, 255), (0, 0, 255), (128, 0, 255), (255, 0, 255)]"
   ]
  },
  {
   "cell_type": "markdown",
   "metadata": {},
   "source": [
    "# Strokes to RGB function"
   ]
  },
  {
   "cell_type": "code",
   "execution_count": 191,
   "metadata": {
    "ExecuteTime": {
     "end_time": "2018-11-29T14:27:29.311681Z",
     "start_time": "2018-11-29T14:27:28.289738Z"
    }
   },
   "outputs": [
    {
     "data": {
      "text/html": [
       "<div>\n",
       "<style scoped>\n",
       "    .dataframe tbody tr th:only-of-type {\n",
       "        vertical-align: middle;\n",
       "    }\n",
       "\n",
       "    .dataframe tbody tr th {\n",
       "        vertical-align: top;\n",
       "    }\n",
       "\n",
       "    .dataframe thead th {\n",
       "        text-align: right;\n",
       "    }\n",
       "</style>\n",
       "<table border=\"1\" class=\"dataframe\">\n",
       "  <thead>\n",
       "    <tr style=\"text-align: right;\">\n",
       "      <th></th>\n",
       "      <th>countrycode</th>\n",
       "      <th>drawing</th>\n",
       "      <th>key_id</th>\n",
       "      <th>recognized</th>\n",
       "      <th>timestamp</th>\n",
       "      <th>word</th>\n",
       "    </tr>\n",
       "  </thead>\n",
       "  <tbody>\n",
       "    <tr>\n",
       "      <th>0</th>\n",
       "      <td>SE</td>\n",
       "      <td>[[[16, 10, 9, 9, 14, 23, 34, 51, 57, 63], [89,...</td>\n",
       "      <td>5526808248188928</td>\n",
       "      <td>True</td>\n",
       "      <td>2017-03-06 15:03:14.107450</td>\n",
       "      <td>bear</td>\n",
       "    </tr>\n",
       "    <tr>\n",
       "      <th>1</th>\n",
       "      <td>GB</td>\n",
       "      <td>[[[80, 27, 12, 1, 0, 3, 20, 46, 54], [91, 58, ...</td>\n",
       "      <td>4658741301477376</td>\n",
       "      <td>True</td>\n",
       "      <td>2017-03-02 12:39:40.542740</td>\n",
       "      <td>bear</td>\n",
       "    </tr>\n",
       "    <tr>\n",
       "      <th>2</th>\n",
       "      <td>BG</td>\n",
       "      <td>[[[137, 138, 134, 104, 93, 87, 82, 75, 70, 41,...</td>\n",
       "      <td>5839943714734080</td>\n",
       "      <td>True</td>\n",
       "      <td>2017-01-27 21:54:19.023060</td>\n",
       "      <td>bear</td>\n",
       "    </tr>\n",
       "    <tr>\n",
       "      <th>3</th>\n",
       "      <td>CA</td>\n",
       "      <td>[[[33, 37, 48, 62, 89, 113, 138, 143, 154, 154...</td>\n",
       "      <td>5938045243097088</td>\n",
       "      <td>True</td>\n",
       "      <td>2017-03-18 23:23:52.752680</td>\n",
       "      <td>bear</td>\n",
       "    </tr>\n",
       "    <tr>\n",
       "      <th>4</th>\n",
       "      <td>US</td>\n",
       "      <td>[[[82, 71, 66, 58, 51, 48, 65, 70, 80, 73, 52,...</td>\n",
       "      <td>5048724499726336</td>\n",
       "      <td>True</td>\n",
       "      <td>2017-03-09 16:25:09.764740</td>\n",
       "      <td>bear</td>\n",
       "    </tr>\n",
       "  </tbody>\n",
       "</table>\n",
       "</div>"
      ],
      "text/plain": [
       "  countrycode                                            drawing  \\\n",
       "0          SE  [[[16, 10, 9, 9, 14, 23, 34, 51, 57, 63], [89,...   \n",
       "1          GB  [[[80, 27, 12, 1, 0, 3, 20, 46, 54], [91, 58, ...   \n",
       "2          BG  [[[137, 138, 134, 104, 93, 87, 82, 75, 70, 41,...   \n",
       "3          CA  [[[33, 37, 48, 62, 89, 113, 138, 143, 154, 154...   \n",
       "4          US  [[[82, 71, 66, 58, 51, 48, 65, 70, 80, 73, 52,...   \n",
       "\n",
       "             key_id  recognized                   timestamp  word  \n",
       "0  5526808248188928        True  2017-03-06 15:03:14.107450  bear  \n",
       "1  4658741301477376        True  2017-03-02 12:39:40.542740  bear  \n",
       "2  5839943714734080        True  2017-01-27 21:54:19.023060  bear  \n",
       "3  5938045243097088        True  2017-03-18 23:23:52.752680  bear  \n",
       "4  5048724499726336        True  2017-03-09 16:25:09.764740  bear  "
      ]
     },
     "execution_count": 191,
     "metadata": {},
     "output_type": "execute_result"
    }
   ],
   "source": [
    "path = '/home/ypw/data/doodle/train_simplified/bear.csv'\n",
    "df = pd.read_csv(path)\n",
    "df.head()"
   ]
  },
  {
   "cell_type": "code",
   "execution_count": 192,
   "metadata": {
    "ExecuteTime": {
     "end_time": "2018-11-29T14:27:44.314689Z",
     "start_time": "2018-11-29T14:27:44.302025Z"
    }
   },
   "outputs": [
    {
     "data": {
      "text/plain": [
       "'[[[16, 10, 9, 9, 14, 23, 34, 51, 57, 63], [89, 74, 52, 35, 25, 22, 25, 42, 55, 55]], [[61, 73, 95, 112, 130, 131, 149, 155, 164, 174, 182, 182, 178], [57, 49, 42, 42, 47, 38, 7, 2, 0, 4, 20, 42, 51]], [[39, 32, 25, 33, 44], [72, 71, 48, 50, 62]], [[145, 162, 165, 162], [47, 20, 53, 58]], [[21, 12, 3, 0, 6, 29, 45, 65, 88, 121, 142, 160, 174, 183, 187, 189, 182], [84, 89, 100, 120, 134, 162, 176, 186, 190, 188, 181, 171, 159, 144, 119, 73, 43]], [[57, 48, 35, 30, 37, 49, 81, 123, 152, 159, 157, 152], [181, 186, 211, 239, 247, 252, 255, 236, 215, 198, 180, 171]]]'"
      ]
     },
     "execution_count": 192,
     "metadata": {},
     "output_type": "execute_result"
    }
   ],
   "source": [
    "df.drawing[0]"
   ]
  },
  {
   "cell_type": "code",
   "execution_count": 193,
   "metadata": {
    "ExecuteTime": {
     "end_time": "2018-11-29T14:28:42.561920Z",
     "start_time": "2018-11-29T14:27:44.856237Z"
    }
   },
   "outputs": [],
   "source": [
    "df['drawing'] = df['drawing'].apply(ast.literal_eval)"
   ]
  },
  {
   "cell_type": "code",
   "execution_count": 194,
   "metadata": {
    "ExecuteTime": {
     "end_time": "2018-11-29T14:28:42.584914Z",
     "start_time": "2018-11-29T14:28:42.572110Z"
    }
   },
   "outputs": [],
   "source": [
    "def n_color(n):\n",
    "    x = np.arange(0, 255, 255/n, dtype=np.uint8)\n",
    "    x = cv2.applyColorMap(x, cv2.COLORMAP_RAINBOW)[:,0,::-1]\n",
    "    return x.tolist()"
   ]
  },
  {
   "cell_type": "code",
   "execution_count": 229,
   "metadata": {
    "ExecuteTime": {
     "end_time": "2018-11-29T14:37:17.808566Z",
     "start_time": "2018-11-29T14:37:17.521077Z"
    }
   },
   "outputs": [
    {
     "name": "stdout",
     "output_type": "stream",
     "text": [
      "11\n"
     ]
    },
    {
     "data": {
      "text/plain": [
       "True"
      ]
     },
     "execution_count": 229,
     "metadata": {},
     "output_type": "execute_result"
    },
    {
     "data": {
      "image/png": "[encoded data removed]",
      "text/plain": [
       "<Figure size 432x288 with 1 Axes>"
      ]
     },
     "metadata": {
      "needs_background": "light"
     },
     "output_type": "display_data"
    }
   ],
   "source": [
    "def Strokes_to_RGB():\n",
    "    strokes = df['drawing'][1014]\n",
    "    print(len(strokes))\n",
    "    img = np.zeros((BASE_SIZE, BASE_SIZE, 3), np.uint8)\n",
    "\n",
    "    colors = n_color(len(strokes))\n",
    "\n",
    "    for t, stroke in enumerate(strokes):\n",
    "        color = colors[t]\n",
    "        for i in range(len(stroke[0]) - 1):\n",
    "            cv2.line(img, (stroke[0][i], stroke[1][i]), (stroke[0][i + 1], stroke[1][i + 1]), \n",
    "                     color=color, thickness=2, lineType=cv2.LINE_AA)\n",
    "plt.imshow(img)\n",
    "cv2.imwrite('test.jpg', img)"
   ]
  },
  {
   "cell_type": "code",
   "execution_count": 48,
   "metadata": {
    "ExecuteTime": {
     "end_time": "2018-11-29T13:00:12.598509Z",
     "start_time": "2018-11-29T13:00:12.574643Z"
    }
   },
   "outputs": [],
   "source": [
    "def test_generator(img_size, batchsize, lw=6):\n",
    "    while True:\n",
    "        for df in pd.read_csv(path, chunksize=batchsize):\n",
    "            df['drawing'] = df['drawing'].apply(ast.literal_eval)\n",
    "            x = np.zeros((len(df), img_size, img_size, 3))\n",
    "            for i, raw_strokes in enumerate(df.drawing.values):\n",
    "                x[i, :, :, :] = draw_cv2(raw_strokes, size=img_size, lw=lw)\n",
    "            yield x, preprocess_input(x).astype(np.float32)"
   ]
  },
  {
   "cell_type": "code",
   "execution_count": 47,
   "metadata": {
    "ExecuteTime": {
     "end_time": "2018-11-29T13:00:12.568335Z",
     "start_time": "2018-11-29T13:00:12.542430Z"
    }
   },
   "outputs": [],
   "source": [
    "def draw_cv2(raw_strokes, size=256, lw=7, time_color=True):\n",
    "    img = np.zeros((BASE_SIZE, BASE_SIZE, 3), np.uint8)\n",
    "    for t, stroke in enumerate(raw_strokes):\n",
    "        for i in range(len(stroke[0]) - 1):\n",
    "            color = colors[min(t, len(colors)-1)]\n",
    "            cv2.line(img, (stroke[0][i], stroke[1][i]),\n",
    "                         (stroke[0][i + 1], stroke[1][i + 1]), color, lw, lineType=cv2.LINE_AA)\n",
    "    if size != BASE_SIZE:\n",
    "        return cv2.resize(img, (size, size))\n",
    "    else:\n",
    "        return img"
   ]
  },
  {
   "cell_type": "code",
   "execution_count": 49,
   "metadata": {
    "ExecuteTime": {
     "end_time": "2018-11-29T13:00:12.608819Z",
     "start_time": "2018-11-29T13:00:12.601112Z"
    }
   },
   "outputs": [],
   "source": [
    "test_datagen = test_generator(img_size, batchsize, line_width)"
   ]
  },
  {
   "cell_type": "code",
   "execution_count": 50,
   "metadata": {
    "ExecuteTime": {
     "end_time": "2018-11-29T13:00:22.684530Z",
     "start_time": "2018-11-29T13:00:12.616782Z"
    },
    "scrolled": false
   },
   "outputs": [
    {
     "name": "stderr",
     "output_type": "stream",
     "text": [
      "Clipping input data to the valid range for imshow with RGB data ([0..1] for floats or [0..255] for integers).\n",
      "Clipping input data to the valid range for imshow with RGB data ([0..1] for floats or [0..255] for integers).\n",
      "Clipping input data to the valid range for imshow with RGB data ([0..1] for floats or [0..255] for integers).\n",
      "Clipping input data to the valid range for imshow with RGB data ([0..1] for floats or [0..255] for integers).\n",
      "Clipping input data to the valid range for imshow with RGB data ([0..1] for floats or [0..255] for integers).\n",
      "Clipping input data to the valid range for imshow with RGB data ([0..1] for floats or [0..255] for integers).\n",
      "Clipping input data to the valid range for imshow with RGB data ([0..1] for floats or [0..255] for integers).\n",
      "Clipping input data to the valid range for imshow with RGB data ([0..1] for floats or [0..255] for integers).\n",
      "Clipping input data to the valid range for imshow with RGB data ([0..1] for floats or [0..255] for integers).\n",
      "Clipping input data to the valid range for imshow with RGB data ([0..1] for floats or [0..255] for integers).\n",
      "Clipping input data to the valid range for imshow with RGB data ([0..1] for floats or [0..255] for integers).\n",
      "Clipping input data to the valid range for imshow with RGB data ([0..1] for floats or [0..255] for integers).\n",
      "Clipping input data to the valid range for imshow with RGB data ([0..1] for floats or [0..255] for integers).\n",
      "Clipping input data to the valid range for imshow with RGB data ([0..1] for floats or [0..255] for integers).\n",
      "Clipping input data to the valid range for imshow with RGB data ([0..1] for floats or [0..255] for integers).\n",
      "Clipping input data to the valid range for imshow with RGB data ([0..1] for floats or [0..255] for integers).\n",
      "Clipping input data to the valid range for imshow with RGB data ([0..1] for floats or [0..255] for integers).\n",
      "Clipping input data to the valid range for imshow with RGB data ([0..1] for floats or [0..255] for integers).\n",
      "Clipping input data to the valid range for imshow with RGB data ([0..1] for floats or [0..255] for integers).\n",
      "Clipping input data to the valid range for imshow with RGB data ([0..1] for floats or [0..255] for integers).\n",
      "Clipping input data to the valid range for imshow with RGB data ([0..1] for floats or [0..255] for integers).\n",
      "Clipping input data to the valid range for imshow with RGB data ([0..1] for floats or [0..255] for integers).\n",
      "Clipping input data to the valid range for imshow with RGB data ([0..1] for floats or [0..255] for integers).\n",
      "Clipping input data to the valid range for imshow with RGB data ([0..1] for floats or [0..255] for integers).\n",
      "Clipping input data to the valid range for imshow with RGB data ([0..1] for floats or [0..255] for integers).\n",
      "Clipping input data to the valid range for imshow with RGB data ([0..1] for floats or [0..255] for integers).\n",
      "Clipping input data to the valid range for imshow with RGB data ([0..1] for floats or [0..255] for integers).\n",
      "Clipping input data to the valid range for imshow with RGB data ([0..1] for floats or [0..255] for integers).\n",
      "Clipping input data to the valid range for imshow with RGB data ([0..1] for floats or [0..255] for integers).\n",
      "Clipping input data to the valid range for imshow with RGB data ([0..1] for floats or [0..255] for integers).\n",
      "Clipping input data to the valid range for imshow with RGB data ([0..1] for floats or [0..255] for integers).\n",
      "Clipping input data to the valid range for imshow with RGB data ([0..1] for floats or [0..255] for integers).\n",
      "Clipping input data to the valid range for imshow with RGB data ([0..1] for floats or [0..255] for integers).\n",
      "Clipping input data to the valid range for imshow with RGB data ([0..1] for floats or [0..255] for integers).\n",
      "Clipping input data to the valid range for imshow with RGB data ([0..1] for floats or [0..255] for integers).\n",
      "Clipping input data to the valid range for imshow with RGB data ([0..1] for floats or [0..255] for integers).\n",
      "Clipping input data to the valid range for imshow with RGB data ([0..1] for floats or [0..255] for integers).\n",
      "Clipping input data to the valid range for imshow with RGB data ([0..1] for floats or [0..255] for integers).\n",
      "Clipping input data to the valid range for imshow with RGB data ([0..1] for floats or [0..255] for integers).\n",
      "Clipping input data to the valid range for imshow with RGB data ([0..1] for floats or [0..255] for integers).\n",
      "Clipping input data to the valid range for imshow with RGB data ([0..1] for floats or [0..255] for integers).\n",
      "Clipping input data to the valid range for imshow with RGB data ([0..1] for floats or [0..255] for integers).\n",
      "Clipping input data to the valid range for imshow with RGB data ([0..1] for floats or [0..255] for integers).\n",
      "Clipping input data to the valid range for imshow with RGB data ([0..1] for floats or [0..255] for integers).\n",
      "Clipping input data to the valid range for imshow with RGB data ([0..1] for floats or [0..255] for integers).\n",
      "Clipping input data to the valid range for imshow with RGB data ([0..1] for floats or [0..255] for integers).\n",
      "Clipping input data to the valid range for imshow with RGB data ([0..1] for floats or [0..255] for integers).\n",
      "Clipping input data to the valid range for imshow with RGB data ([0..1] for floats or [0..255] for integers).\n",
      "Clipping input data to the valid range for imshow with RGB data ([0..1] for floats or [0..255] for integers).\n",
      "Clipping input data to the valid range for imshow with RGB data ([0..1] for floats or [0..255] for integers).\n",
      "Clipping input data to the valid range for imshow with RGB data ([0..1] for floats or [0..255] for integers).\n",
      "Clipping input data to the valid range for imshow with RGB data ([0..1] for floats or [0..255] for integers).\n",
      "Clipping input data to the valid range for imshow with RGB data ([0..1] for floats or [0..255] for integers).\n",
      "Clipping input data to the valid range for imshow with RGB data ([0..1] for floats or [0..255] for integers).\n",
      "Clipping input data to the valid range for imshow with RGB data ([0..1] for floats or [0..255] for integers).\n",
      "Clipping input data to the valid range for imshow with RGB data ([0..1] for floats or [0..255] for integers).\n",
      "Clipping input data to the valid range for imshow with RGB data ([0..1] for floats or [0..255] for integers).\n",
      "Clipping input data to the valid range for imshow with RGB data ([0..1] for floats or [0..255] for integers).\n",
      "Clipping input data to the valid range for imshow with RGB data ([0..1] for floats or [0..255] for integers).\n",
      "Clipping input data to the valid range for imshow with RGB data ([0..1] for floats or [0..255] for integers).\n",
      "Clipping input data to the valid range for imshow with RGB data ([0..1] for floats or [0..255] for integers).\n",
      "Clipping input data to the valid range for imshow with RGB data ([0..1] for floats or [0..255] for integers).\n",
      "Clipping input data to the valid range for imshow with RGB data ([0..1] for floats or [0..255] for integers).\n",
      "Clipping input data to the valid range for imshow with RGB data ([0..1] for floats or [0..255] for integers).\n"
     ]
    },
    {
     "data": {
      "image/png": "[encoded data removed]",
      "text/plain": [
       "<Figure size 864x864 with 64 Axes>"
      ]
     },
     "metadata": {
      "needs_background": "light"
     },
     "output_type": "display_data"
    }
   ],
   "source": [
    "x, xi = next(test_datagen)\n",
    "n = 8\n",
    "fig, axs = plt.subplots(nrows=n, ncols=n, sharex=True, sharey=True, figsize=(12, 12))\n",
    "for i in range(n**2):\n",
    "    ax = axs[i // n, i % n]\n",
    "    ax.imshow(x[i])\n",
    "    ax.axis('off')\n",
    "plt.tight_layout()\n",
    "fig.savefig('gs.png', dpi=300)\n",
    "plt.show();"
   ]
  },
  {
   "cell_type": "code",
   "execution_count": null,
   "metadata": {},
   "outputs": [],
   "source": []
  }
 ],
 "metadata": {
  "kernelspec": {
   "display_name": "Python 3",
   "language": "python",
   "name": "python3"
  },
  "language_info": {
   "codemirror_mode": {
    "name": "ipython",
    "version": 3
   },
   "file_extension": ".py",
   "mimetype": "text/x-python",
   "name": "python",
   "nbconvert_exporter": "python",
   "pygments_lexer": "ipython3",
   "version": "3.6.7"
  }
 },
 "nbformat": 4,
 "nbformat_minor": 2
}
