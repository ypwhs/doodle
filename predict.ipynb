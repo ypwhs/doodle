{
 "cells": [
  {
   "cell_type": "code",
   "execution_count": 1,
   "metadata": {},
   "outputs": [],
   "source": [
    "import torch\n",
    "import torch.nn as nn\n",
    "import pretrainedmodels\n",
    "import torchvision.transforms as transforms\n",
    "\n",
    "from PIL import Image\n",
    "import numpy as np\n",
    "import ast\n",
    "from tqdm import tqdm"
   ]
  },
  {
   "cell_type": "code",
   "execution_count": 2,
   "metadata": {},
   "outputs": [],
   "source": [
    "model_name = 'resnet34'\n",
    "num_classes = 340\n",
    "width = 256\n",
    "\n",
    "model = pretrainedmodels.__dict__[model_name](num_classes=1000, pretrained=None)\n",
    "model.avgpool = nn.AdaptiveAvgPool2d(1)\n",
    "model.avgpool_1a = nn.AdaptiveAvgPool2d(1)\n",
    "model.last_linear = nn.Linear(in_features=model.last_linear.in_features, out_features=num_classes, bias=True)\n",
    "model = model.cuda()\n",
    "\n",
    "state = torch.load('resnet34_sgd_adam_0.9353_100.pt')\n",
    "model.load_state_dict(state['model'])\n",
    "model = model.eval()"
   ]
  },
  {
   "cell_type": "code",
   "execution_count": 3,
   "metadata": {},
   "outputs": [],
   "source": [
    "from dataset import SplitDataset, DataLoader\n",
    "transform = transforms.Compose([\n",
    "    transforms.Resize(size=(width, width)),\n",
    "    transforms.ToTensor()\n",
    "])\n",
    "\n",
    "doodles = SplitDataset('test_simplified.csv', mode='test', transform=transform)\n",
    "testloader = DataLoader(doodles, batch_size=64, shuffle=False, num_workers=6)"
   ]
  },
  {
   "cell_type": "code",
   "execution_count": 4,
   "metadata": {},
   "outputs": [
    {
     "name": "stderr",
     "output_type": "stream",
     "text": [
      "100%|██████████| 1754/1754 [02:04<00:00, 14.14it/s]\n"
     ]
    }
   ],
   "source": [
    "model.eval()\n",
    "labels = np.empty((0,3))\n",
    "with tqdm(testloader) as pbar:\n",
    "    for x in pbar:\n",
    "        x = x.cuda()\n",
    "        output = model(x)\n",
    "        _, pred = output.topk(3, 1, True, True)\n",
    "        labels = np.concatenate([labels, pred], axis = 0)"
   ]
  },
  {
   "cell_type": "code",
   "execution_count": 5,
   "metadata": {},
   "outputs": [
    {
     "data": {
      "text/plain": [
       "array([[234., 281., 285.],\n",
       "       [144.,  36., 226.],\n",
       "       [305.,  62., 110.],\n",
       "       [187., 303., 111.],\n",
       "       [ 56., 113., 165.],\n",
       "       [110., 274., 157.],\n",
       "       [335., 151., 257.],\n",
       "       [289.,  91., 253.],\n",
       "       [ 38., 101., 136.],\n",
       "       [151., 326., 335.]])"
      ]
     },
     "execution_count": 5,
     "metadata": {},
     "output_type": "execute_result"
    }
   ],
   "source": [
    "labels[:10]"
   ]
  },
  {
   "cell_type": "code",
   "execution_count": 6,
   "metadata": {},
   "outputs": [],
   "source": [
    "import pandas as pd\n",
    "df2 = pd.read_csv('split_recognized/train_k99.csv')\n",
    "label_word_map = dict(zip(df2.y.unique(), [x.replace(' ', '_') for x in df2.word.unique()]))"
   ]
  },
  {
   "cell_type": "code",
   "execution_count": 7,
   "metadata": {},
   "outputs": [
    {
     "name": "stdout",
     "output_type": "stream",
     "text": [
      "CPU times: user 2.05 s, sys: 58.6 ms, total: 2.11 s\n",
      "Wall time: 1.51 s\n"
     ]
    }
   ],
   "source": [
    "%%time\n",
    "labels_string = [' '.join([label_word_map[y] for y in x]) for x in labels]\n",
    "submission = pd.read_csv('test_simplified.csv', index_col='key_id')\n",
    "submission.drop(['countrycode', 'drawing'], axis=1, inplace=True)\n",
    "submission['word'] = labels_string\n",
    "submission.to_csv(f'preds_{model_name}.csv')"
   ]
  },
  {
   "cell_type": "code",
   "execution_count": null,
   "metadata": {},
   "outputs": [],
   "source": []
  }
 ],
 "metadata": {
  "kernelspec": {
   "display_name": "Python 3",
   "language": "python",
   "name": "python3"
  },
  "language_info": {
   "codemirror_mode": {
    "name": "ipython",
    "version": 3
   },
   "file_extension": ".py",
   "mimetype": "text/x-python",
   "name": "python",
   "nbconvert_exporter": "python",
   "pygments_lexer": "ipython3",
   "version": "3.6.5"
  }
 },
 "nbformat": 4,
 "nbformat_minor": 2
}
